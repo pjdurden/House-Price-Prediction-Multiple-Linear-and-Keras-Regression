{
 "cells": [
  {
   "cell_type": "code",
   "execution_count": 1,
   "metadata": {
    "colab": {
     "base_uri": "https://localhost:8080/",
     "height": 122
    },
    "colab_type": "code",
    "id": "E8MoEdcjocUz",
    "outputId": "414056a1-2963-41a1-9263-4c7bb88059a1"
   },
   "outputs": [
    {
     "name": "stdout",
     "output_type": "stream",
     "text": [
      "Go to this URL in a browser: https://accounts.google.com/o/oauth2/auth?client_id=947318989803-6bn6qk8qdgf4n4g3pfee6491hc0brc4i.apps.googleusercontent.com&redirect_uri=urn%3Aietf%3Awg%3Aoauth%3A2.0%3Aoob&scope=email%20https%3A%2F%2Fwww.googleapis.com%2Fauth%2Fdocs.test%20https%3A%2F%2Fwww.googleapis.com%2Fauth%2Fdrive%20https%3A%2F%2Fwww.googleapis.com%2Fauth%2Fdrive.photos.readonly%20https%3A%2F%2Fwww.googleapis.com%2Fauth%2Fpeopleapi.readonly&response_type=code\n",
      "\n",
      "Enter your authorization code:\n",
      "··········\n",
      "Mounted at /content/drive\n"
     ]
    }
   ],
   "source": [
    "from google.colab import drive, files\n",
    "drive.mount(\"/content/drive\")"
   ]
  },
  {
   "cell_type": "markdown",
   "metadata": {
    "colab_type": "text",
    "id": "NWN9DF8AZlSq"
   },
   "source": [
    "# Importing libraries"
   ]
  },
  {
   "cell_type": "code",
   "execution_count": 0,
   "metadata": {
    "colab": {},
    "colab_type": "code",
    "id": "M8_K262robZI"
   },
   "outputs": [],
   "source": [
    "import pandas as pd\n",
    "import numpy as np\n",
    "import os\n",
    "import matplotlib.pyplot as plt\n",
    "from sklearn.linear_model import RidgeCV, LassoCV\n",
    "from sklearn.metrics import mean_squared_error as mse\n",
    "from scipy.stats import skew\n",
    "%matplotlib inline"
   ]
  },
  {
   "cell_type": "markdown",
   "metadata": {
    "colab_type": "text",
    "id": "4ipWqm-DZ24-"
   },
   "source": [
    "# Reading Data"
   ]
  },
  {
   "cell_type": "code",
   "execution_count": 0,
   "metadata": {
    "colab": {},
    "colab_type": "code",
    "id": "KXN4QY_NoxqX"
   },
   "outputs": [],
   "source": [
    "curr_path = \"/content/drive/My Drive/DSWorkspace/HousePricePrediction\""
   ]
  },
  {
   "cell_type": "code",
   "execution_count": 0,
   "metadata": {
    "colab": {},
    "colab_type": "code",
    "id": "F0y36RdBobZO"
   },
   "outputs": [],
   "source": [
    "#read data\n",
    "train_data = pd.read_csv(curr_path+\"/data/train.csv\")\n",
    "test_data = pd.read_csv(curr_path+\"/data/test.csv\")"
   ]
  },
  {
   "cell_type": "markdown",
   "metadata": {
    "colab_type": "text",
    "id": "EEzjUrk8obZS"
   },
   "source": [
    "# Describing Training Data"
   ]
  },
  {
   "cell_type": "code",
   "execution_count": 44,
   "metadata": {
    "colab": {
     "base_uri": "https://localhost:8080/",
     "height": 346
    },
    "colab_type": "code",
    "id": "pDfTsrwxobZT",
    "outputId": "089a6206-f1ea-4e3f-9b8a-65015df03b81"
   },
   "outputs": [
    {
     "data": {
      "text/html": [
       "<div>\n",
       "<style scoped>\n",
       "    .dataframe tbody tr th:only-of-type {\n",
       "        vertical-align: middle;\n",
       "    }\n",
       "\n",
       "    .dataframe tbody tr th {\n",
       "        vertical-align: top;\n",
       "    }\n",
       "\n",
       "    .dataframe thead th {\n",
       "        text-align: right;\n",
       "    }\n",
       "</style>\n",
       "<table border=\"1\" class=\"dataframe\">\n",
       "  <thead>\n",
       "    <tr style=\"text-align: right;\">\n",
       "      <th></th>\n",
       "      <th>Id</th>\n",
       "      <th>MSSubClass</th>\n",
       "      <th>LotFrontage</th>\n",
       "      <th>LotArea</th>\n",
       "      <th>OverallQual</th>\n",
       "      <th>OverallCond</th>\n",
       "      <th>YearBuilt</th>\n",
       "      <th>YearRemodAdd</th>\n",
       "      <th>MasVnrArea</th>\n",
       "      <th>BsmtFinSF1</th>\n",
       "      <th>...</th>\n",
       "      <th>WoodDeckSF</th>\n",
       "      <th>OpenPorchSF</th>\n",
       "      <th>EnclosedPorch</th>\n",
       "      <th>3SsnPorch</th>\n",
       "      <th>ScreenPorch</th>\n",
       "      <th>PoolArea</th>\n",
       "      <th>MiscVal</th>\n",
       "      <th>MoSold</th>\n",
       "      <th>YrSold</th>\n",
       "      <th>SalePrice</th>\n",
       "    </tr>\n",
       "  </thead>\n",
       "  <tbody>\n",
       "    <tr>\n",
       "      <th>count</th>\n",
       "      <td>1460.000000</td>\n",
       "      <td>1460.000000</td>\n",
       "      <td>1201.000000</td>\n",
       "      <td>1460.000000</td>\n",
       "      <td>1460.000000</td>\n",
       "      <td>1460.000000</td>\n",
       "      <td>1460.000000</td>\n",
       "      <td>1460.000000</td>\n",
       "      <td>1452.000000</td>\n",
       "      <td>1460.000000</td>\n",
       "      <td>...</td>\n",
       "      <td>1460.000000</td>\n",
       "      <td>1460.000000</td>\n",
       "      <td>1460.000000</td>\n",
       "      <td>1460.000000</td>\n",
       "      <td>1460.000000</td>\n",
       "      <td>1460.000000</td>\n",
       "      <td>1460.000000</td>\n",
       "      <td>1460.000000</td>\n",
       "      <td>1460.000000</td>\n",
       "      <td>1460.000000</td>\n",
       "    </tr>\n",
       "    <tr>\n",
       "      <th>mean</th>\n",
       "      <td>730.500000</td>\n",
       "      <td>56.897260</td>\n",
       "      <td>70.049958</td>\n",
       "      <td>10516.828082</td>\n",
       "      <td>6.099315</td>\n",
       "      <td>5.575342</td>\n",
       "      <td>1971.267808</td>\n",
       "      <td>1984.865753</td>\n",
       "      <td>103.685262</td>\n",
       "      <td>443.639726</td>\n",
       "      <td>...</td>\n",
       "      <td>94.244521</td>\n",
       "      <td>46.660274</td>\n",
       "      <td>21.954110</td>\n",
       "      <td>3.409589</td>\n",
       "      <td>15.060959</td>\n",
       "      <td>2.758904</td>\n",
       "      <td>43.489041</td>\n",
       "      <td>6.321918</td>\n",
       "      <td>2007.815753</td>\n",
       "      <td>180921.195890</td>\n",
       "    </tr>\n",
       "    <tr>\n",
       "      <th>std</th>\n",
       "      <td>421.610009</td>\n",
       "      <td>42.300571</td>\n",
       "      <td>24.284752</td>\n",
       "      <td>9981.264932</td>\n",
       "      <td>1.382997</td>\n",
       "      <td>1.112799</td>\n",
       "      <td>30.202904</td>\n",
       "      <td>20.645407</td>\n",
       "      <td>181.066207</td>\n",
       "      <td>456.098091</td>\n",
       "      <td>...</td>\n",
       "      <td>125.338794</td>\n",
       "      <td>66.256028</td>\n",
       "      <td>61.119149</td>\n",
       "      <td>29.317331</td>\n",
       "      <td>55.757415</td>\n",
       "      <td>40.177307</td>\n",
       "      <td>496.123024</td>\n",
       "      <td>2.703626</td>\n",
       "      <td>1.328095</td>\n",
       "      <td>79442.502883</td>\n",
       "    </tr>\n",
       "    <tr>\n",
       "      <th>min</th>\n",
       "      <td>1.000000</td>\n",
       "      <td>20.000000</td>\n",
       "      <td>21.000000</td>\n",
       "      <td>1300.000000</td>\n",
       "      <td>1.000000</td>\n",
       "      <td>1.000000</td>\n",
       "      <td>1872.000000</td>\n",
       "      <td>1950.000000</td>\n",
       "      <td>0.000000</td>\n",
       "      <td>0.000000</td>\n",
       "      <td>...</td>\n",
       "      <td>0.000000</td>\n",
       "      <td>0.000000</td>\n",
       "      <td>0.000000</td>\n",
       "      <td>0.000000</td>\n",
       "      <td>0.000000</td>\n",
       "      <td>0.000000</td>\n",
       "      <td>0.000000</td>\n",
       "      <td>1.000000</td>\n",
       "      <td>2006.000000</td>\n",
       "      <td>34900.000000</td>\n",
       "    </tr>\n",
       "    <tr>\n",
       "      <th>25%</th>\n",
       "      <td>365.750000</td>\n",
       "      <td>20.000000</td>\n",
       "      <td>59.000000</td>\n",
       "      <td>7553.500000</td>\n",
       "      <td>5.000000</td>\n",
       "      <td>5.000000</td>\n",
       "      <td>1954.000000</td>\n",
       "      <td>1967.000000</td>\n",
       "      <td>0.000000</td>\n",
       "      <td>0.000000</td>\n",
       "      <td>...</td>\n",
       "      <td>0.000000</td>\n",
       "      <td>0.000000</td>\n",
       "      <td>0.000000</td>\n",
       "      <td>0.000000</td>\n",
       "      <td>0.000000</td>\n",
       "      <td>0.000000</td>\n",
       "      <td>0.000000</td>\n",
       "      <td>5.000000</td>\n",
       "      <td>2007.000000</td>\n",
       "      <td>129975.000000</td>\n",
       "    </tr>\n",
       "    <tr>\n",
       "      <th>50%</th>\n",
       "      <td>730.500000</td>\n",
       "      <td>50.000000</td>\n",
       "      <td>69.000000</td>\n",
       "      <td>9478.500000</td>\n",
       "      <td>6.000000</td>\n",
       "      <td>5.000000</td>\n",
       "      <td>1973.000000</td>\n",
       "      <td>1994.000000</td>\n",
       "      <td>0.000000</td>\n",
       "      <td>383.500000</td>\n",
       "      <td>...</td>\n",
       "      <td>0.000000</td>\n",
       "      <td>25.000000</td>\n",
       "      <td>0.000000</td>\n",
       "      <td>0.000000</td>\n",
       "      <td>0.000000</td>\n",
       "      <td>0.000000</td>\n",
       "      <td>0.000000</td>\n",
       "      <td>6.000000</td>\n",
       "      <td>2008.000000</td>\n",
       "      <td>163000.000000</td>\n",
       "    </tr>\n",
       "    <tr>\n",
       "      <th>75%</th>\n",
       "      <td>1095.250000</td>\n",
       "      <td>70.000000</td>\n",
       "      <td>80.000000</td>\n",
       "      <td>11601.500000</td>\n",
       "      <td>7.000000</td>\n",
       "      <td>6.000000</td>\n",
       "      <td>2000.000000</td>\n",
       "      <td>2004.000000</td>\n",
       "      <td>166.000000</td>\n",
       "      <td>712.250000</td>\n",
       "      <td>...</td>\n",
       "      <td>168.000000</td>\n",
       "      <td>68.000000</td>\n",
       "      <td>0.000000</td>\n",
       "      <td>0.000000</td>\n",
       "      <td>0.000000</td>\n",
       "      <td>0.000000</td>\n",
       "      <td>0.000000</td>\n",
       "      <td>8.000000</td>\n",
       "      <td>2009.000000</td>\n",
       "      <td>214000.000000</td>\n",
       "    </tr>\n",
       "    <tr>\n",
       "      <th>max</th>\n",
       "      <td>1460.000000</td>\n",
       "      <td>190.000000</td>\n",
       "      <td>313.000000</td>\n",
       "      <td>215245.000000</td>\n",
       "      <td>10.000000</td>\n",
       "      <td>9.000000</td>\n",
       "      <td>2010.000000</td>\n",
       "      <td>2010.000000</td>\n",
       "      <td>1600.000000</td>\n",
       "      <td>5644.000000</td>\n",
       "      <td>...</td>\n",
       "      <td>857.000000</td>\n",
       "      <td>547.000000</td>\n",
       "      <td>552.000000</td>\n",
       "      <td>508.000000</td>\n",
       "      <td>480.000000</td>\n",
       "      <td>738.000000</td>\n",
       "      <td>15500.000000</td>\n",
       "      <td>12.000000</td>\n",
       "      <td>2010.000000</td>\n",
       "      <td>755000.000000</td>\n",
       "    </tr>\n",
       "  </tbody>\n",
       "</table>\n",
       "<p>8 rows × 38 columns</p>\n",
       "</div>"
      ],
      "text/plain": [
       "                Id   MSSubClass  LotFrontage        LotArea  OverallQual  \\\n",
       "count  1460.000000  1460.000000  1201.000000    1460.000000  1460.000000   \n",
       "mean    730.500000    56.897260    70.049958   10516.828082     6.099315   \n",
       "std     421.610009    42.300571    24.284752    9981.264932     1.382997   \n",
       "min       1.000000    20.000000    21.000000    1300.000000     1.000000   \n",
       "25%     365.750000    20.000000    59.000000    7553.500000     5.000000   \n",
       "50%     730.500000    50.000000    69.000000    9478.500000     6.000000   \n",
       "75%    1095.250000    70.000000    80.000000   11601.500000     7.000000   \n",
       "max    1460.000000   190.000000   313.000000  215245.000000    10.000000   \n",
       "\n",
       "       OverallCond    YearBuilt  YearRemodAdd   MasVnrArea   BsmtFinSF1  \\\n",
       "count  1460.000000  1460.000000   1460.000000  1452.000000  1460.000000   \n",
       "mean      5.575342  1971.267808   1984.865753   103.685262   443.639726   \n",
       "std       1.112799    30.202904     20.645407   181.066207   456.098091   \n",
       "min       1.000000  1872.000000   1950.000000     0.000000     0.000000   \n",
       "25%       5.000000  1954.000000   1967.000000     0.000000     0.000000   \n",
       "50%       5.000000  1973.000000   1994.000000     0.000000   383.500000   \n",
       "75%       6.000000  2000.000000   2004.000000   166.000000   712.250000   \n",
       "max       9.000000  2010.000000   2010.000000  1600.000000  5644.000000   \n",
       "\n",
       "           ...         WoodDeckSF  OpenPorchSF  EnclosedPorch    3SsnPorch  \\\n",
       "count      ...        1460.000000  1460.000000    1460.000000  1460.000000   \n",
       "mean       ...          94.244521    46.660274      21.954110     3.409589   \n",
       "std        ...         125.338794    66.256028      61.119149    29.317331   \n",
       "min        ...           0.000000     0.000000       0.000000     0.000000   \n",
       "25%        ...           0.000000     0.000000       0.000000     0.000000   \n",
       "50%        ...           0.000000    25.000000       0.000000     0.000000   \n",
       "75%        ...         168.000000    68.000000       0.000000     0.000000   \n",
       "max        ...         857.000000   547.000000     552.000000   508.000000   \n",
       "\n",
       "       ScreenPorch     PoolArea       MiscVal       MoSold       YrSold  \\\n",
       "count  1460.000000  1460.000000   1460.000000  1460.000000  1460.000000   \n",
       "mean     15.060959     2.758904     43.489041     6.321918  2007.815753   \n",
       "std      55.757415    40.177307    496.123024     2.703626     1.328095   \n",
       "min       0.000000     0.000000      0.000000     1.000000  2006.000000   \n",
       "25%       0.000000     0.000000      0.000000     5.000000  2007.000000   \n",
       "50%       0.000000     0.000000      0.000000     6.000000  2008.000000   \n",
       "75%       0.000000     0.000000      0.000000     8.000000  2009.000000   \n",
       "max     480.000000   738.000000  15500.000000    12.000000  2010.000000   \n",
       "\n",
       "           SalePrice  \n",
       "count    1460.000000  \n",
       "mean   180921.195890  \n",
       "std     79442.502883  \n",
       "min     34900.000000  \n",
       "25%    129975.000000  \n",
       "50%    163000.000000  \n",
       "75%    214000.000000  \n",
       "max    755000.000000  \n",
       "\n",
       "[8 rows x 38 columns]"
      ]
     },
     "execution_count": 44,
     "metadata": {
      "tags": []
     },
     "output_type": "execute_result"
    }
   ],
   "source": [
    "train_data_numeric = train_data.select_dtypes(exclude=\"object\")\n",
    "train_data_numeric.describe()"
   ]
  },
  {
   "cell_type": "code",
   "execution_count": 45,
   "metadata": {
    "colab": {
     "base_uri": "https://localhost:8080/",
     "height": 170
    },
    "colab_type": "code",
    "id": "wjPCa42gfbWX",
    "outputId": "c1e86439-3819-4c17-dcfa-09be39b1af52"
   },
   "outputs": [
    {
     "data": {
      "text/plain": [
       "array(['Id', 'MSSubClass', 'LotFrontage', 'LotArea', 'OverallQual',\n",
       "       'OverallCond', 'YearBuilt', 'YearRemodAdd', 'MasVnrArea',\n",
       "       'BsmtFinSF1', 'BsmtFinSF2', 'BsmtUnfSF', 'TotalBsmtSF', '1stFlrSF',\n",
       "       '2ndFlrSF', 'LowQualFinSF', 'GrLivArea', 'BsmtFullBath',\n",
       "       'BsmtHalfBath', 'FullBath', 'HalfBath', 'BedroomAbvGr',\n",
       "       'KitchenAbvGr', 'TotRmsAbvGrd', 'Fireplaces', 'GarageYrBlt',\n",
       "       'GarageCars', 'GarageArea', 'WoodDeckSF', 'OpenPorchSF',\n",
       "       'EnclosedPorch', '3SsnPorch', 'ScreenPorch', 'PoolArea', 'MiscVal',\n",
       "       'MoSold', 'YrSold', 'SalePrice'], dtype=object)"
      ]
     },
     "execution_count": 45,
     "metadata": {
      "tags": []
     },
     "output_type": "execute_result"
    }
   ],
   "source": [
    "train_data_numeric.columns.values"
   ]
  },
  {
   "cell_type": "code",
   "execution_count": 46,
   "metadata": {
    "colab": {
     "base_uri": "https://localhost:8080/",
     "height": 187
    },
    "colab_type": "code",
    "id": "byJr2ZaRobZc",
    "outputId": "52af8f53-aee3-47e2-9c41-16d1540b3257"
   },
   "outputs": [
    {
     "data": {
      "text/plain": [
       "array(['MSZoning', 'Street', 'Alley', 'LotShape', 'LandContour',\n",
       "       'Utilities', 'LotConfig', 'LandSlope', 'Neighborhood',\n",
       "       'Condition1', 'Condition2', 'BldgType', 'HouseStyle', 'RoofStyle',\n",
       "       'RoofMatl', 'Exterior1st', 'Exterior2nd', 'MasVnrType',\n",
       "       'ExterQual', 'ExterCond', 'Foundation', 'BsmtQual', 'BsmtCond',\n",
       "       'BsmtExposure', 'BsmtFinType1', 'BsmtFinType2', 'Heating',\n",
       "       'HeatingQC', 'CentralAir', 'Electrical', 'KitchenQual',\n",
       "       'Functional', 'FireplaceQu', 'GarageType', 'GarageFinish',\n",
       "       'GarageQual', 'GarageCond', 'PavedDrive', 'PoolQC', 'Fence',\n",
       "       'MiscFeature', 'SaleType', 'SaleCondition'], dtype=object)"
      ]
     },
     "execution_count": 46,
     "metadata": {
      "tags": []
     },
     "output_type": "execute_result"
    }
   ],
   "source": [
    "train_data_categorical = train_data.select_dtypes(include=\"object\")\n",
    "train_data_categorical.columns.values"
   ]
  },
  {
   "cell_type": "markdown",
   "metadata": {
    "colab_type": "text",
    "id": "Vj4SUjghaCIE"
   },
   "source": [
    "All categorical variables will be one hot encoded"
   ]
  },
  {
   "cell_type": "code",
   "execution_count": 47,
   "metadata": {
    "colab": {
     "base_uri": "https://localhost:8080/",
     "height": 85
    },
    "colab_type": "code",
    "id": "DDKxwTk6obZh",
    "outputId": "15af1d4d-9907-4c05-cf73-737c779b0659"
   },
   "outputs": [
    {
     "data": {
      "text/plain": [
       "array(['OverallQual', 'OverallCond', 'BsmtFullBath', 'BsmtHalfBath',\n",
       "       'FullBath', 'HalfBath', 'BedroomAbvGr', 'KitchenAbvGr',\n",
       "       'TotRmsAbvGrd', 'Fireplaces', 'GarageCars', 'PoolArea', 'MoSold',\n",
       "       'YrSold'], dtype=object)"
      ]
     },
     "execution_count": 47,
     "metadata": {
      "tags": []
     },
     "output_type": "execute_result"
    }
   ],
   "source": [
    "train_data_numeric.loc[:,train_data.nunique()<13].columns.values"
   ]
  },
  {
   "cell_type": "markdown",
   "metadata": {
    "colab_type": "text",
    "id": "boMtv02IobZp"
   },
   "source": [
    "# Plots"
   ]
  },
  {
   "cell_type": "code",
   "execution_count": 48,
   "metadata": {
    "colab": {
     "base_uri": "https://localhost:8080/",
     "height": 319
    },
    "colab_type": "code",
    "id": "RhnbJDcMobZp",
    "outputId": "36ed1f04-6572-4531-95c4-0522ad571d2e"
   },
   "outputs": [
    {
     "data": {
      "image/png": "[encoded data removed]",
      "text/plain": [
       "<Figure size 432x288 with 2 Axes>"
      ]
     },
     "metadata": {
      "tags": []
     },
     "output_type": "display_data"
    }
   ],
   "source": [
    "plt.subplot(122)\n",
    "plt.xlabel(\"Lot Area log\")\n",
    "plt.ylabel(\"SalePrice\")\n",
    "plt.title(\"Log Lot Area vs SalePrice\")\n",
    "plt.text(10,700000,\"Not Many Outliers Now\")\n",
    "plt.scatter(np.log(train_data[\"LotArea\"]),train_data[\"SalePrice\"])\n",
    "\n",
    "\n",
    "plt.subplot(121)\n",
    "plt.xlabel(\"Lot Area\")\n",
    "plt.ylabel(\"SalePrice\")\n",
    "plt.title(\"Lot Area vs SalePrice\")\n",
    "plt.scatter(train_data[\"LotArea\"],train_data[\"SalePrice\"])\n",
    "plt.text(100000,600000,\"Many Outliers\")\n",
    "plt.subplots_adjust(top=0.92, bottom=0.08, left=0.10, right=2.0, hspace=0.25,\n",
    "                    wspace=0.35)\n",
    "           \n"
   ]
  },
  {
   "cell_type": "code",
   "execution_count": 49,
   "metadata": {
    "colab": {
     "base_uri": "https://localhost:8080/",
     "height": 304
    },
    "colab_type": "code",
    "id": "HbgdqZevobZt",
    "outputId": "8963e834-6da6-43ac-fa5a-2526a5da3399"
   },
   "outputs": [
    {
     "data": {
      "image/png": "[encoded data removed]",
      "text/plain": [
       "<Figure size 432x288 with 1 Axes>"
      ]
     },
     "metadata": {
      "tags": []
     },
     "output_type": "display_data"
    }
   ],
   "source": [
    "to_plot = train_data[[\"MoSold\",\"SalePrice\"]].copy().groupby(\"MoSold\").mean().apply(lambda x : np.log2(x))\n",
    "plt.subplot(111)\n",
    "plt.xlabel(\"Month Sold\")\n",
    "plt.ylabel(\"SalePrice\")\n",
    "plt.bar(to_plot.index.values,to_plot.values[:,0])\n",
    "plt.subplots_adjust(top=0.92, bottom=0.08, left=0.10, right=2.0, hspace=0.25,\n",
    "                    wspace=0.35)"
   ]
  },
  {
   "cell_type": "code",
   "execution_count": 50,
   "metadata": {
    "colab": {
     "base_uri": "https://localhost:8080/",
     "height": 304
    },
    "colab_type": "code",
    "id": "ZiMxHhJMhZjX",
    "outputId": "559e0d70-5dab-4420-c321-468cc02381ed"
   },
   "outputs": [
    {
     "data": {
      "image/png": "[encoded data removed]",
      "text/plain": [
       "<Figure size 432x288 with 2 Axes>"
      ]
     },
     "metadata": {
      "tags": []
     },
     "output_type": "display_data"
    }
   ],
   "source": [
    "plt.subplot(121)\n",
    "plt.xlabel(\"Index\")\n",
    "plt.ylabel(\"Sale price\")\n",
    "plt.hist(train_data[\"SalePrice\"])\n",
    "\n",
    "plt.subplot(122)\n",
    "plt.xlabel(\"Index\")\n",
    "plt.ylabel(\"Log sale price\")\n",
    "plt.hist(np.log1p(train_data[\"SalePrice\"]))\n",
    "plt.subplots_adjust(top=0.92, bottom=0.08, left=0.10, right=2.0, hspace=0.25,\n",
    "                    wspace=0.35)"
   ]
  },
  {
   "cell_type": "markdown",
   "metadata": {
    "colab_type": "text",
    "id": "A6Pn5QLuioCl"
   },
   "source": [
    "Skewness is likely to create bias and hence lets do log transfor so that data is approximately normal and works well with multivariate linear regression"
   ]
  },
  {
   "cell_type": "code",
   "execution_count": 51,
   "metadata": {
    "colab": {
     "base_uri": "https://localhost:8080/",
     "height": 304
    },
    "colab_type": "code",
    "id": "Dca6rN5ii-HK",
    "outputId": "6d9f0bed-e4e8-467a-ac45-50f782493aa7"
   },
   "outputs": [
    {
     "data": {
      "image/png": "[encoded data removed]",
      "text/plain": [
       "<Figure size 432x288 with 2 Axes>"
      ]
     },
     "metadata": {
      "tags": []
     },
     "output_type": "display_data"
    }
   ],
   "source": [
    "plt.subplot(121)\n",
    "plt.xlabel(\"Index\")\n",
    "plt.ylabel(\"Sale price\")\n",
    "plt.scatter(train_data[\"TotalBsmtSF\"],np.log1p(train_data[\"SalePrice\"]))\n",
    "\n",
    "plt.subplot(122)\n",
    "plt.xlabel(\"Index\")\n",
    "plt.ylabel(\"Log sale price\")\n",
    "plt.scatter(np.log1p(train_data[\"TotalBsmtSF\"]),np.log1p(train_data[\"SalePrice\"]))\n",
    "plt.subplots_adjust(top=0.92, bottom=0.08, left=0.10, right=2.0, hspace=0.25,\n",
    "                    wspace=0.35)"
   ]
  },
  {
   "cell_type": "code",
   "execution_count": 52,
   "metadata": {
    "colab": {
     "base_uri": "https://localhost:8080/",
     "height": 304
    },
    "colab_type": "code",
    "id": "2nyiiEfkje-8",
    "outputId": "960d1aac-8838-483d-f163-4d8d8c57b231"
   },
   "outputs": [
    {
     "data": {
      "image/png": "[encoded data removed]",
      "text/plain": [
       "<Figure size 432x288 with 2 Axes>"
      ]
     },
     "metadata": {
      "tags": []
     },
     "output_type": "display_data"
    }
   ],
   "source": [
    "plt.subplot(121)\n",
    "plt.xlabel(\"Index\")\n",
    "plt.ylabel(\"Sale price\")\n",
    "plt.hist(train_data[\"LotArea\"])\n",
    "\n",
    "plt.subplot(122)\n",
    "plt.xlabel(\"Index\")\n",
    "plt.ylabel(\"Log sale price\")\n",
    "plt.hist(np.log1p(train_data[\"LotArea\"]))\n",
    "plt.subplots_adjust(top=0.92, bottom=0.08, left=0.10, right=2.0, hspace=0.25,\n",
    "                    wspace=0.35)"
   ]
  },
  {
   "cell_type": "code",
   "execution_count": 53,
   "metadata": {
    "colab": {
     "base_uri": "https://localhost:8080/",
     "height": 304
    },
    "colab_type": "code",
    "id": "ehCnW638pTFU",
    "outputId": "be865ada-5c45-4d9b-8254-dac5eed067cf"
   },
   "outputs": [
    {
     "data": {
      "image/png": "[encoded data removed]",
      "text/plain": [
       "<Figure size 432x288 with 2 Axes>"
      ]
     },
     "metadata": {
      "tags": []
     },
     "output_type": "display_data"
    }
   ],
   "source": [
    "plt.subplot(121)\n",
    "plt.xlabel(\"Index\")\n",
    "plt.ylabel(\"Basement Square feet\")\n",
    "plt.hist(train_data[\"TotalBsmtSF\"])\n",
    "\n",
    "plt.subplot(122)\n",
    "plt.xlabel(\"Index\")\n",
    "plt.ylabel(\"Log Basemetn Square Feet\")\n",
    "plt.hist(np.log1p(train_data[\"TotalBsmtSF\"]))\n",
    "plt.subplots_adjust(top=0.92, bottom=0.08, left=0.10, right=2.0, hspace=0.25,\n",
    "                    wspace=0.35)"
   ]
  },
  {
   "cell_type": "markdown",
   "metadata": {
    "colab_type": "text",
    "id": "1jrpsXrGj-QG"
   },
   "source": [
    "Looks like log transformation of numerical features removes skewness for those variables which are highly skewed."
   ]
  },
  {
   "cell_type": "code",
   "execution_count": 0,
   "metadata": {
    "colab": {},
    "colab_type": "code",
    "id": "9TC6YCjJobZx"
   },
   "outputs": [],
   "source": [
    "# identify cat variables hidden as numerical\n",
    "# convert categorical variables to dummy variables\n",
    "# impute missing values using mean\n",
    "# scale the data using power transformer\n",
    "# log transform skewed features\n",
    "  \n",
    "def clean_train(train_to_clean):\n",
    "    cont_vars = train_to_clean.select_dtypes(exclude=\"object\").columns.values\n",
    "    num_cat_vars = train_to_clean[cont_vars].loc[:,train_to_clean[cont_vars].nunique()<13].columns.values\n",
    "    cont_vars = np.array([x for x in cont_vars.tolist() if x not in num_cat_vars.tolist()])\n",
    "\n",
    "    skewd_feat = train_to_clean[cont_vars].apply(lambda x : skew(x,nan_policy='propagate'),axis=0)\n",
    "    skewd_feat = skewd_feat[skewd_feat>0.7]\n",
    "    train_to_clean[skewd_feat.index] = np.log1p(train_to_clean[skewd_feat.index])\n",
    "\n",
    "    cat_vars = train_to_clean.select_dtypes(include=\"object\").columns.values\n",
    "    cat_vars = np.append(cat_vars,num_cat_vars)\n",
    "    data_cat = pd.get_dummies(train_to_clean,columns=cat_vars)\n",
    "    final = data_cat.set_index(\"Id\")\n",
    "    final = final.groupby(final.columns, axis = 1).transform(lambda x: x.fillna(x.mean())) \n",
    "    return final,skewd_feat\n",
    "    \n",
    "def clean_test(test_to_clean,transformed_train,skewd_feat):\n",
    "    cont_vars = test_to_clean.select_dtypes(exclude=\"object\").columns.values\n",
    "    num_cat_vars = test_to_clean[cont_vars].loc[:,test_to_clean[cont_vars].nunique()<13].columns.values\n",
    "    cont_vars = np.array([x for x in cont_vars.tolist() if x not in num_cat_vars.tolist()])\n",
    "    test_to_clean[skewd_feat.index] = np.log1p(test_to_clean[skewd_feat.index])\n",
    "\n",
    "    cat_vars = test_to_clean.select_dtypes(include=\"object\").columns.values\n",
    "    cat_vars = np.append(cat_vars,num_cat_vars)\n",
    "    data_cat = pd.get_dummies(test_to_clean,columns=cat_vars)\n",
    "    final = data_cat.set_index(\"Id\")\n",
    "    final = final.groupby(final.columns, axis = 1).transform(lambda x: x.fillna(x.mean()))\n",
    "    final = final.T.reindex(index = transformed_train.columns.values).fillna(0).T\n",
    "    return final\n",
    "  \n",
    "\n",
    "\n",
    "    "
   ]
  },
  {
   "cell_type": "code",
   "execution_count": 0,
   "metadata": {
    "colab": {},
    "colab_type": "code",
    "id": "frvGXaDO01s2"
   },
   "outputs": [],
   "source": [
    "def fitRidgeCV(train_fit,target,**kwargs):\n",
    "    train_y = target\n",
    "    train_x = train_fit\n",
    "    clf = RidgeCV(**kwargs)\n",
    "    clf.fit(train_x,train_y)\n",
    "    print(\"train loss:{}\".format(\"test\"))\n",
    "    return clf\n",
    "\n",
    "def predictLassoCV(test_fit,clf):\n",
    "    return clf.predict(test_fit)"
   ]
  },
  {
   "cell_type": "code",
   "execution_count": 0,
   "metadata": {
    "colab": {},
    "colab_type": "code",
    "id": "xt__T7wLJbEf"
   },
   "outputs": [],
   "source": [
    "def fitLassoCV(train_fit,target,**kwargs):\n",
    "    train_y = target\n",
    "    train_x = train_fit\n",
    "    clf = LassoCV(**kwargs)\n",
    "    clf.fit(train_x,train_y)\n",
    "    print(\"train loss:{}\".format(\"test\"))\n",
    "    return clf\n",
    "\n",
    "def predictLassoCV(test_fit,clf):\n",
    "    return clf.predict(test_fit)"
   ]
  },
  {
   "cell_type": "code",
   "execution_count": 0,
   "metadata": {
    "colab": {},
    "colab_type": "code",
    "id": "ezPkq7myynWs"
   },
   "outputs": [],
   "source": [
    "target = np.log1p(train_data[\"SalePrice\"])\n",
    "train_cleaned,skewd_feat = clean_train(train_data.drop(\"SalePrice\",axis=1))\n",
    "test_cleaned = clean_test(test_data,train_cleaned,skewd_feat)\n"
   ]
  },
  {
   "cell_type": "code",
   "execution_count": 58,
   "metadata": {
    "colab": {
     "base_uri": "https://localhost:8080/",
     "height": 34
    },
    "colab_type": "code",
    "id": "o5lmkI6cobZ1",
    "outputId": "462fea0c-f20c-4653-fec1-96252a7a71f4"
   },
   "outputs": [
    {
     "name": "stdout",
     "output_type": "stream",
     "text": [
      "train loss:test\n"
     ]
    }
   ],
   "source": [
    "ridge_alpha = [0.05, 0.1, 0.3, 1, 3, 5, 6,7,7.5,8,8.5,9,10,11,12, 15, 30, 50, 75,100]\n",
    "train_final = train_cleaned\n",
    "test_final = test_cleaned\n",
    "ridgeCV_model = fitRidgeCV(train_cleaned,target,normalize=False,alphas=ridge_alpha,store_cv_values = True)\n",
    "\n"
   ]
  },
  {
   "cell_type": "code",
   "execution_count": 59,
   "metadata": {
    "colab": {
     "base_uri": "https://localhost:8080/",
     "height": 34
    },
    "colab_type": "code",
    "id": "W1kLYnbJJpbH",
    "outputId": "f36f2db1-4e63-47cc-9870-13a4d09c51a2"
   },
   "outputs": [
    {
     "name": "stdout",
     "output_type": "stream",
     "text": [
      "train loss:test\n"
     ]
    }
   ],
   "source": [
    "lasso_alpha = [1, 0.5, 0.1, 0.02, 0.001, 0.0003,0.0004,0.0005]\n",
    "train_final = train_cleaned\n",
    "test_final = test_cleaned\n",
    "lassoCV_model = fitLassoCV(train_cleaned,target,cv=5, random_state=0,normalize=False,alphas=lasso_alpha)"
   ]
  },
  {
   "cell_type": "markdown",
   "metadata": {
    "colab_type": "text",
    "id": "f43nZs0-QiNX"
   },
   "source": [
    "# Error plots for Ridge cross validation and lasso crossvalidation"
   ]
  },
  {
   "cell_type": "code",
   "execution_count": 60,
   "metadata": {
    "colab": {
     "base_uri": "https://localhost:8080/",
     "height": 308
    },
    "colab_type": "code",
    "id": "LWFi_NfMQoo8",
    "outputId": "4b5df4e4-996e-479d-b397-04e259d4314c"
   },
   "outputs": [
    {
     "data": {
      "image/png": "[encoded data removed]",
      "text/plain": [
       "<Figure size 432x288 with 1 Axes>"
      ]
     },
     "metadata": {
      "tags": []
     },
     "output_type": "display_data"
    }
   ],
   "source": [
    "plt.plot(ridgeCV_model.cv_values_.mean(axis=0))\n",
    "plt.xlabel(\"alpha values\")\n",
    "plt.ylabel(\"mean of Mean squared error of LOOV\")\n",
    "plt.ylim(0,0.05)\n",
    "plt.xticks(range(1,len(ridge_alpha)+1),ridge_alpha)\n",
    "plt.subplots_adjust(top=0.92, bottom=0.08, left=0.10, right=2.0, hspace=0.25,\n",
    "                    wspace=0.35)\n",
    "plt.show()\n"
   ]
  },
  {
   "cell_type": "code",
   "execution_count": 61,
   "metadata": {
    "colab": {
     "base_uri": "https://localhost:8080/",
     "height": 304
    },
    "colab_type": "code",
    "id": "vTD7OrrHLq3K",
    "outputId": "9d07cddd-e1a5-4e86-d815-2fd661eb7068"
   },
   "outputs": [
    {
     "data": {
      "image/png": "[encoded data removed]",
      "text/plain": [
       "<Figure size 432x288 with 1 Axes>"
      ]
     },
     "metadata": {
      "tags": []
     },
     "output_type": "display_data"
    }
   ],
   "source": [
    "plt.plot(lassoCV_model.mse_path_)\n",
    "plt.legend([\"cv\"+str(i) for i in range(1,lassoCV_model.mse_path_.shape[1]+1)])\n",
    "plt.xticks(range(len(lasso_alpha)),lasso_alpha)\n",
    "plt.xlabel(\"Alpha value\")\n",
    "plt.ylabel(\"Test Error\")\n",
    "plt.subplots_adjust(top=0.92, bottom=0.08, left=0.10, right=2.0, hspace=0.25,\n",
    "                    wspace=0.35)\n",
    "plt.show()\n"
   ]
  },
  {
   "cell_type": "code",
   "execution_count": 0,
   "metadata": {
    "colab": {},
    "colab_type": "code",
    "id": "8Xvl-ITSKDol"
   },
   "outputs": [],
   "source": [
    "ridge_output = ridgeCV_model.predict(test_cleaned)"
   ]
  },
  {
   "cell_type": "code",
   "execution_count": 0,
   "metadata": {
    "colab": {},
    "colab_type": "code",
    "id": "QdujGtX1Igmo"
   },
   "outputs": [],
   "source": [
    "lasso_output = lassoCV_model.predict(test_cleaned)"
   ]
  },
  {
   "cell_type": "code",
   "execution_count": 0,
   "metadata": {
    "colab": {},
    "colab_type": "code",
    "id": "Wetm8aO7obaD"
   },
   "outputs": [],
   "source": [
    "def writeoutput(output_df, filename, columns, index):\n",
    "  csv_df = pd.DataFrame(output_df,columns=columns,index=index)\n",
    "  csv_df.reset_index()\n",
    "  csv_df.to_csv(filename)\n",
    "  files.download(filename)"
   ]
  },
  {
   "cell_type": "markdown",
   "metadata": {
    "colab_type": "text",
    "id": "QkZJ3L28TMHF"
   },
   "source": [
    "# Final Regression Equation and important predictors for House price prediction"
   ]
  },
  {
   "cell_type": "code",
   "execution_count": 73,
   "metadata": {
    "colab": {
     "base_uri": "https://localhost:8080/",
     "height": 1969
    },
    "colab_type": "code",
    "id": "OT3A0XHDTWdl",
    "outputId": "05d8309e-456b-4dc1-d862-13a41ddf5ceb"
   },
   "outputs": [
    {
     "data": {
      "text/html": [
       "<div>\n",
       "<style scoped>\n",
       "    .dataframe tbody tr th:only-of-type {\n",
       "        vertical-align: middle;\n",
       "    }\n",
       "\n",
       "    .dataframe tbody tr th {\n",
       "        vertical-align: top;\n",
       "    }\n",
       "\n",
       "    .dataframe thead th {\n",
       "        text-align: right;\n",
       "    }\n",
       "</style>\n",
       "<table border=\"1\" class=\"dataframe\">\n",
       "  <thead>\n",
       "    <tr style=\"text-align: right;\">\n",
       "      <th></th>\n",
       "      <th>0</th>\n",
       "    </tr>\n",
       "  </thead>\n",
       "  <tbody>\n",
       "    <tr>\n",
       "      <th>PoolArea_480</th>\n",
       "      <td>-0.338420</td>\n",
       "    </tr>\n",
       "    <tr>\n",
       "      <th>MSZoning_C (all)</th>\n",
       "      <td>-0.336482</td>\n",
       "    </tr>\n",
       "    <tr>\n",
       "      <th>RoofMatl_ClyTile</th>\n",
       "      <td>-0.199597</td>\n",
       "    </tr>\n",
       "    <tr>\n",
       "      <th>OverallCond_3</th>\n",
       "      <td>-0.149552</td>\n",
       "    </tr>\n",
       "    <tr>\n",
       "      <th>Condition2_PosN</th>\n",
       "      <td>-0.138398</td>\n",
       "    </tr>\n",
       "    <tr>\n",
       "      <th>OverallQual_3</th>\n",
       "      <td>-0.090781</td>\n",
       "    </tr>\n",
       "    <tr>\n",
       "      <th>SaleCondition_Abnorml</th>\n",
       "      <td>-0.068009</td>\n",
       "    </tr>\n",
       "    <tr>\n",
       "      <th>OverallCond_4</th>\n",
       "      <td>-0.067599</td>\n",
       "    </tr>\n",
       "    <tr>\n",
       "      <th>Neighborhood_Edwards</th>\n",
       "      <td>-0.061718</td>\n",
       "    </tr>\n",
       "    <tr>\n",
       "      <th>Functional_Maj2</th>\n",
       "      <td>-0.051034</td>\n",
       "    </tr>\n",
       "    <tr>\n",
       "      <th>OverallQual_4</th>\n",
       "      <td>-0.046199</td>\n",
       "    </tr>\n",
       "    <tr>\n",
       "      <th>CentralAir_N</th>\n",
       "      <td>-0.043622</td>\n",
       "    </tr>\n",
       "    <tr>\n",
       "      <th>MSZoning_RM</th>\n",
       "      <td>-0.036858</td>\n",
       "    </tr>\n",
       "    <tr>\n",
       "      <th>Neighborhood_MeadowV</th>\n",
       "      <td>-0.035914</td>\n",
       "    </tr>\n",
       "    <tr>\n",
       "      <th>OverallCond_5</th>\n",
       "      <td>-0.031168</td>\n",
       "    </tr>\n",
       "    <tr>\n",
       "      <th>LandContour_Bnk</th>\n",
       "      <td>-0.028339</td>\n",
       "    </tr>\n",
       "    <tr>\n",
       "      <th>ExterCond_Fa</th>\n",
       "      <td>-0.028079</td>\n",
       "    </tr>\n",
       "    <tr>\n",
       "      <th>SaleType_WD</th>\n",
       "      <td>-0.028045</td>\n",
       "    </tr>\n",
       "    <tr>\n",
       "      <th>Fireplaces_0</th>\n",
       "      <td>-0.027594</td>\n",
       "    </tr>\n",
       "    <tr>\n",
       "      <th>SaleCondition_Family</th>\n",
       "      <td>-0.025758</td>\n",
       "    </tr>\n",
       "    <tr>\n",
       "      <th>OverallQual_5</th>\n",
       "      <td>-0.023505</td>\n",
       "    </tr>\n",
       "    <tr>\n",
       "      <th>Fence_GdWo</th>\n",
       "      <td>-0.022982</td>\n",
       "    </tr>\n",
       "    <tr>\n",
       "      <th>KitchenAbvGr_2</th>\n",
       "      <td>-0.021764</td>\n",
       "    </tr>\n",
       "    <tr>\n",
       "      <th>Neighborhood_Mitchel</th>\n",
       "      <td>-0.020664</td>\n",
       "    </tr>\n",
       "    <tr>\n",
       "      <th>BsmtFullBath_0</th>\n",
       "      <td>-0.019114</td>\n",
       "    </tr>\n",
       "    <tr>\n",
       "      <th>HouseStyle_2Story</th>\n",
       "      <td>-0.018786</td>\n",
       "    </tr>\n",
       "    <tr>\n",
       "      <th>BsmtExposure_No</th>\n",
       "      <td>-0.017209</td>\n",
       "    </tr>\n",
       "    <tr>\n",
       "      <th>ExterQual_TA</th>\n",
       "      <td>-0.016755</td>\n",
       "    </tr>\n",
       "    <tr>\n",
       "      <th>BsmtQual_TA</th>\n",
       "      <td>-0.016206</td>\n",
       "    </tr>\n",
       "    <tr>\n",
       "      <th>BsmtCond_Fa</th>\n",
       "      <td>-0.015904</td>\n",
       "    </tr>\n",
       "    <tr>\n",
       "      <th>...</th>\n",
       "      <td>...</td>\n",
       "    </tr>\n",
       "    <tr>\n",
       "      <th>HeatingQC_Ex</th>\n",
       "      <td>0.027421</td>\n",
       "    </tr>\n",
       "    <tr>\n",
       "      <th>TotRmsAbvGrd_10</th>\n",
       "      <td>0.028176</td>\n",
       "    </tr>\n",
       "    <tr>\n",
       "      <th>GarageCond_TA</th>\n",
       "      <td>0.028499</td>\n",
       "    </tr>\n",
       "    <tr>\n",
       "      <th>LotConfig_CulDSac</th>\n",
       "      <td>0.029753</td>\n",
       "    </tr>\n",
       "    <tr>\n",
       "      <th>GarageType_Detchd</th>\n",
       "      <td>0.030714</td>\n",
       "    </tr>\n",
       "    <tr>\n",
       "      <th>Fireplaces_2</th>\n",
       "      <td>0.031790</td>\n",
       "    </tr>\n",
       "    <tr>\n",
       "      <th>GarageCars_3</th>\n",
       "      <td>0.033477</td>\n",
       "    </tr>\n",
       "    <tr>\n",
       "      <th>OverallQual_7</th>\n",
       "      <td>0.034031</td>\n",
       "    </tr>\n",
       "    <tr>\n",
       "      <th>Neighborhood_BrkSide</th>\n",
       "      <td>0.037454</td>\n",
       "    </tr>\n",
       "    <tr>\n",
       "      <th>BsmtExposure_Gd</th>\n",
       "      <td>0.039981</td>\n",
       "    </tr>\n",
       "    <tr>\n",
       "      <th>Neighborhood_Somerst</th>\n",
       "      <td>0.039987</td>\n",
       "    </tr>\n",
       "    <tr>\n",
       "      <th>BsmtQual_Ex</th>\n",
       "      <td>0.041587</td>\n",
       "    </tr>\n",
       "    <tr>\n",
       "      <th>OverallCond_8</th>\n",
       "      <td>0.043028</td>\n",
       "    </tr>\n",
       "    <tr>\n",
       "      <th>OverallCond_7</th>\n",
       "      <td>0.045111</td>\n",
       "    </tr>\n",
       "    <tr>\n",
       "      <th>RoofMatl_WdShngl</th>\n",
       "      <td>0.048425</td>\n",
       "    </tr>\n",
       "    <tr>\n",
       "      <th>Condition1_Norm</th>\n",
       "      <td>0.049952</td>\n",
       "    </tr>\n",
       "    <tr>\n",
       "      <th>FullBath_3</th>\n",
       "      <td>0.059446</td>\n",
       "    </tr>\n",
       "    <tr>\n",
       "      <th>Neighborhood_NoRidge</th>\n",
       "      <td>0.059914</td>\n",
       "    </tr>\n",
       "    <tr>\n",
       "      <th>Neighborhood_NridgHt</th>\n",
       "      <td>0.063197</td>\n",
       "    </tr>\n",
       "    <tr>\n",
       "      <th>KitchenQual_Ex</th>\n",
       "      <td>0.066596</td>\n",
       "    </tr>\n",
       "    <tr>\n",
       "      <th>Exterior1st_BrkFace</th>\n",
       "      <td>0.072510</td>\n",
       "    </tr>\n",
       "    <tr>\n",
       "      <th>LotArea</th>\n",
       "      <td>0.072900</td>\n",
       "    </tr>\n",
       "    <tr>\n",
       "      <th>OverallCond_9</th>\n",
       "      <td>0.085057</td>\n",
       "    </tr>\n",
       "    <tr>\n",
       "      <th>OverallQual_8</th>\n",
       "      <td>0.089431</td>\n",
       "    </tr>\n",
       "    <tr>\n",
       "      <th>Functional_Typ</th>\n",
       "      <td>0.091159</td>\n",
       "    </tr>\n",
       "    <tr>\n",
       "      <th>Neighborhood_StoneBr</th>\n",
       "      <td>0.093755</td>\n",
       "    </tr>\n",
       "    <tr>\n",
       "      <th>OverallQual_10</th>\n",
       "      <td>0.096171</td>\n",
       "    </tr>\n",
       "    <tr>\n",
       "      <th>Neighborhood_Crawfor</th>\n",
       "      <td>0.114383</td>\n",
       "    </tr>\n",
       "    <tr>\n",
       "      <th>OverallQual_9</th>\n",
       "      <td>0.148985</td>\n",
       "    </tr>\n",
       "    <tr>\n",
       "      <th>GrLivArea</th>\n",
       "      <td>0.461624</td>\n",
       "    </tr>\n",
       "  </tbody>\n",
       "</table>\n",
       "<p>365 rows × 1 columns</p>\n",
       "</div>"
      ],
      "text/plain": [
       "                              0\n",
       "PoolArea_480          -0.338420\n",
       "MSZoning_C (all)      -0.336482\n",
       "RoofMatl_ClyTile      -0.199597\n",
       "OverallCond_3         -0.149552\n",
       "Condition2_PosN       -0.138398\n",
       "OverallQual_3         -0.090781\n",
       "SaleCondition_Abnorml -0.068009\n",
       "OverallCond_4         -0.067599\n",
       "Neighborhood_Edwards  -0.061718\n",
       "Functional_Maj2       -0.051034\n",
       "OverallQual_4         -0.046199\n",
       "CentralAir_N          -0.043622\n",
       "MSZoning_RM           -0.036858\n",
       "Neighborhood_MeadowV  -0.035914\n",
       "OverallCond_5         -0.031168\n",
       "LandContour_Bnk       -0.028339\n",
       "ExterCond_Fa          -0.028079\n",
       "SaleType_WD           -0.028045\n",
       "Fireplaces_0          -0.027594\n",
       "SaleCondition_Family  -0.025758\n",
       "OverallQual_5         -0.023505\n",
       "Fence_GdWo            -0.022982\n",
       "KitchenAbvGr_2        -0.021764\n",
       "Neighborhood_Mitchel  -0.020664\n",
       "BsmtFullBath_0        -0.019114\n",
       "HouseStyle_2Story     -0.018786\n",
       "BsmtExposure_No       -0.017209\n",
       "ExterQual_TA          -0.016755\n",
       "BsmtQual_TA           -0.016206\n",
       "BsmtCond_Fa           -0.015904\n",
       "...                         ...\n",
       "HeatingQC_Ex           0.027421\n",
       "TotRmsAbvGrd_10        0.028176\n",
       "GarageCond_TA          0.028499\n",
       "LotConfig_CulDSac      0.029753\n",
       "GarageType_Detchd      0.030714\n",
       "Fireplaces_2           0.031790\n",
       "GarageCars_3           0.033477\n",
       "OverallQual_7          0.034031\n",
       "Neighborhood_BrkSide   0.037454\n",
       "BsmtExposure_Gd        0.039981\n",
       "Neighborhood_Somerst   0.039987\n",
       "BsmtQual_Ex            0.041587\n",
       "OverallCond_8          0.043028\n",
       "OverallCond_7          0.045111\n",
       "RoofMatl_WdShngl       0.048425\n",
       "Condition1_Norm        0.049952\n",
       "FullBath_3             0.059446\n",
       "Neighborhood_NoRidge   0.059914\n",
       "Neighborhood_NridgHt   0.063197\n",
       "KitchenQual_Ex         0.066596\n",
       "Exterior1st_BrkFace    0.072510\n",
       "LotArea                0.072900\n",
       "OverallCond_9          0.085057\n",
       "OverallQual_8          0.089431\n",
       "Functional_Typ         0.091159\n",
       "Neighborhood_StoneBr   0.093755\n",
       "OverallQual_10         0.096171\n",
       "Neighborhood_Crawfor   0.114383\n",
       "OverallQual_9          0.148985\n",
       "GrLivArea              0.461624\n",
       "\n",
       "[365 rows x 1 columns]"
      ]
     },
     "execution_count": 73,
     "metadata": {
      "tags": []
     },
     "output_type": "execute_result"
    }
   ],
   "source": [
    "lasso_coeff_values = lassoCV_model.coef_\n",
    "lasso_coeff_values = pd.DataFrame(lasso_coeff_values,index=test_cleaned.columns.values)\n",
    "lasso_coeff_values.sort_values(0)"
   ]
  },
  {
   "cell_type": "markdown",
   "metadata": {
    "colab_type": "text",
    "id": "4Wtoy-7NU2v_"
   },
   "source": [
    " We can see that Low Overall quality index and less pool area negatively effect the sale price of the house\n",
    " \n",
    " High overall quality rating of 10,9 and neighborhoods of Crawfor and StoneBr are postively associated with high sale prices"
   ]
  },
  {
   "cell_type": "markdown",
   "metadata": {
    "colab_type": "text",
    "id": "Xkd1sDZjS9ck"
   },
   "source": [
    "# Following code downloads predict sales prices for test data."
   ]
  },
  {
   "cell_type": "code",
   "execution_count": 0,
   "metadata": {
    "colab": {},
    "colab_type": "code",
    "id": "QM2kVf_PKpbB"
   },
   "outputs": [],
   "source": [
    "writeoutput(np.expm1(ridge_output),\"ridgecv_output.csv\",[\"SalePrice\"],test_data[\"Id\"])"
   ]
  },
  {
   "cell_type": "code",
   "execution_count": 0,
   "metadata": {
    "colab": {},
    "colab_type": "code",
    "id": "99pTdALsKrE0"
   },
   "outputs": [],
   "source": [
    "writeoutput(np.expm1(lasso_output),\"lassocv_output.csv\", [\"SalePrice\"], test_data[\"Id\"])"
   ]
  },
  {
   "cell_type": "code",
   "execution_count": 0,
   "metadata": {
    "colab": {},
    "colab_type": "code",
    "id": "VKe2TfnVLAF5"
   },
   "outputs": [],
   "source": [
    "writeoutput(lasso_coeff_values.values,\"Estimated_Coefficient_Values.csv\", [\"values\"],lasso_coeff_values.index )"
   ]
  },
  {
   "cell_type": "code",
   "execution_count": 0,
   "metadata": {
    "colab": {},
    "colab_type": "code",
    "id": "8rn1lg6wWWmT"
   },
   "outputs": [],
   "source": []
  }
 ],
 "metadata": {
  "accelerator": "GPU",
  "colab": {
   "collapsed_sections": [],
   "name": "HousePricePrediction.ipynb",
   "provenance": [],
   "version": "0.3.2"
  },
  "kernelspec": {
   "display_name": "Python 3",
   "language": "python",
   "name": "python3"
  },
  "language_info": {
   "codemirror_mode": {
    "name": "ipython",
    "version": 3
   },
   "file_extension": ".py",
   "mimetype": "text/x-python",
   "name": "python",
   "nbconvert_exporter": "python",
   "pygments_lexer": "ipython3",
   "version": "3.6.11"
  }
 },
 "nbformat": 4,
 "nbformat_minor": 1
}
